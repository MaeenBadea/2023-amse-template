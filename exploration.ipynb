{
 "cells": [
  {
   "attachments": {},
   "cell_type": "markdown",
   "metadata": {},
   "source": [
    "# Data Exploration\n",
    "\n",
    "In this notebook describe your data exploration steps."
   ]
  },
  {
   "attachments": {},
   "cell_type": "markdown",
   "metadata": {},
   "source": [
    "## Install dependencies"
   ]
  },
  {
   "cell_type": "code",
   "execution_count": 42,
   "metadata": {},
   "outputs": [
    {
     "name": "stdout",
     "output_type": "stream",
     "text": [
      "Requirement already satisfied: pandas in c:\\users\\roron\\appdata\\local\\programs\\python\\python311\\lib\\site-packages (2.0.0)\n",
      "Requirement already satisfied: python-dateutil>=2.8.2 in c:\\users\\roron\\appdata\\roaming\\python\\python311\\site-packages (from pandas) (2.8.2)\n",
      "Requirement already satisfied: pytz>=2020.1 in c:\\users\\roron\\appdata\\local\\programs\\python\\python311\\lib\\site-packages (from pandas) (2023.3)\n",
      "Requirement already satisfied: tzdata>=2022.1 in c:\\users\\roron\\appdata\\local\\programs\\python\\python311\\lib\\site-packages (from pandas) (2023.3)\n",
      "Requirement already satisfied: numpy>=1.21.0 in c:\\users\\roron\\appdata\\local\\programs\\python\\python311\\lib\\site-packages (from pandas) (1.24.2)\n",
      "Requirement already satisfied: six>=1.5 in c:\\users\\roron\\appdata\\roaming\\python\\python311\\site-packages (from python-dateutil>=2.8.2->pandas) (1.16.0)\n",
      "Note: you may need to restart the kernel to use updated packages.\n"
     ]
    },
    {
     "name": "stderr",
     "output_type": "stream",
     "text": [
      "\n",
      "[notice] A new release of pip available: 22.3.1 -> 23.1.2\n",
      "[notice] To update, run: python.exe -m pip install --upgrade pip\n"
     ]
    },
    {
     "name": "stdout",
     "output_type": "stream",
     "text": [
      "Requirement already satisfied: matplotlib in c:\\users\\roron\\appdata\\local\\programs\\python\\python311\\lib\\site-packages (3.7.1)\n",
      "Requirement already satisfied: contourpy>=1.0.1 in c:\\users\\roron\\appdata\\local\\programs\\python\\python311\\lib\\site-packages (from matplotlib) (1.0.7)\n",
      "Requirement already satisfied: cycler>=0.10 in c:\\users\\roron\\appdata\\local\\programs\\python\\python311\\lib\\site-packages (from matplotlib) (0.11.0)\n",
      "Requirement already satisfied: fonttools>=4.22.0 in c:\\users\\roron\\appdata\\local\\programs\\python\\python311\\lib\\site-packages (from matplotlib) (4.39.4)\n",
      "Requirement already satisfied: kiwisolver>=1.0.1 in c:\\users\\roron\\appdata\\local\\programs\\python\\python311\\lib\\site-packages (from matplotlib) (1.4.4)\n",
      "Requirement already satisfied: numpy>=1.20 in c:\\users\\roron\\appdata\\local\\programs\\python\\python311\\lib\\site-packages (from matplotlib) (1.24.2)\n",
      "Requirement already satisfied: packaging>=20.0 in c:\\users\\roron\\appdata\\roaming\\python\\python311\\site-packages (from matplotlib) (23.1)\n",
      "Requirement already satisfied: pillow>=6.2.0 in c:\\users\\roron\\appdata\\local\\programs\\python\\python311\\lib\\site-packages (from matplotlib) (9.5.0)\n",
      "Requirement already satisfied: pyparsing>=2.3.1 in c:\\users\\roron\\appdata\\local\\programs\\python\\python311\\lib\\site-packages (from matplotlib) (3.0.9)\n",
      "Requirement already satisfied: python-dateutil>=2.7 in c:\\users\\roron\\appdata\\roaming\\python\\python311\\site-packages (from matplotlib) (2.8.2)\n",
      "Requirement already satisfied: six>=1.5 in c:\\users\\roron\\appdata\\roaming\\python\\python311\\site-packages (from python-dateutil>=2.7->matplotlib) (1.16.0)\n",
      "Note: you may need to restart the kernel to use updated packages.\n"
     ]
    },
    {
     "name": "stderr",
     "output_type": "stream",
     "text": [
      "\n",
      "[notice] A new release of pip available: 22.3.1 -> 23.1.2\n",
      "[notice] To update, run: python.exe -m pip install --upgrade pip\n"
     ]
    },
    {
     "name": "stdout",
     "output_type": "stream",
     "text": [
      "Requirement already satisfied: seaborn in c:\\users\\roron\\appdata\\local\\programs\\python\\python311\\lib\\site-packages (0.12.2)\n",
      "Requirement already satisfied: numpy!=1.24.0,>=1.17 in c:\\users\\roron\\appdata\\local\\programs\\python\\python311\\lib\\site-packages (from seaborn) (1.24.2)\n",
      "Requirement already satisfied: pandas>=0.25 in c:\\users\\roron\\appdata\\local\\programs\\python\\python311\\lib\\site-packages (from seaborn) (2.0.0)\n",
      "Requirement already satisfied: matplotlib!=3.6.1,>=3.1 in c:\\users\\roron\\appdata\\local\\programs\\python\\python311\\lib\\site-packages (from seaborn) (3.7.1)\n",
      "Requirement already satisfied: contourpy>=1.0.1 in c:\\users\\roron\\appdata\\local\\programs\\python\\python311\\lib\\site-packages (from matplotlib!=3.6.1,>=3.1->seaborn) (1.0.7)\n",
      "Requirement already satisfied: cycler>=0.10 in c:\\users\\roron\\appdata\\local\\programs\\python\\python311\\lib\\site-packages (from matplotlib!=3.6.1,>=3.1->seaborn) (0.11.0)\n",
      "Requirement already satisfied: fonttools>=4.22.0 in c:\\users\\roron\\appdata\\local\\programs\\python\\python311\\lib\\site-packages (from matplotlib!=3.6.1,>=3.1->seaborn) (4.39.4)\n",
      "Requirement already satisfied: kiwisolver>=1.0.1 in c:\\users\\roron\\appdata\\local\\programs\\python\\python311\\lib\\site-packages (from matplotlib!=3.6.1,>=3.1->seaborn) (1.4.4)\n",
      "Requirement already satisfied: packaging>=20.0 in c:\\users\\roron\\appdata\\roaming\\python\\python311\\site-packages (from matplotlib!=3.6.1,>=3.1->seaborn) (23.1)\n",
      "Requirement already satisfied: pillow>=6.2.0 in c:\\users\\roron\\appdata\\local\\programs\\python\\python311\\lib\\site-packages (from matplotlib!=3.6.1,>=3.1->seaborn) (9.5.0)\n",
      "Requirement already satisfied: pyparsing>=2.3.1 in c:\\users\\roron\\appdata\\local\\programs\\python\\python311\\lib\\site-packages (from matplotlib!=3.6.1,>=3.1->seaborn) (3.0.9)\n",
      "Requirement already satisfied: python-dateutil>=2.7 in c:\\users\\roron\\appdata\\roaming\\python\\python311\\site-packages (from matplotlib!=3.6.1,>=3.1->seaborn) (2.8.2)\n",
      "Requirement already satisfied: pytz>=2020.1 in c:\\users\\roron\\appdata\\local\\programs\\python\\python311\\lib\\site-packages (from pandas>=0.25->seaborn) (2023.3)\n",
      "Requirement already satisfied: tzdata>=2022.1 in c:\\users\\roron\\appdata\\local\\programs\\python\\python311\\lib\\site-packages (from pandas>=0.25->seaborn) (2023.3)\n",
      "Requirement already satisfied: six>=1.5 in c:\\users\\roron\\appdata\\roaming\\python\\python311\\site-packages (from python-dateutil>=2.7->matplotlib!=3.6.1,>=3.1->seaborn) (1.16.0)\n",
      "Note: you may need to restart the kernel to use updated packages.\n"
     ]
    },
    {
     "name": "stderr",
     "output_type": "stream",
     "text": [
      "\n",
      "[notice] A new release of pip available: 22.3.1 -> 23.1.2\n",
      "[notice] To update, run: python.exe -m pip install --upgrade pip\n"
     ]
    },
    {
     "name": "stdout",
     "output_type": "stream",
     "text": [
      "Note: you may need to restart the kernel to use updated packages.\n"
     ]
    },
    {
     "name": "stderr",
     "output_type": "stream",
     "text": [
      "ERROR: Invalid requirement: \"'SQLAlchemy==1.4.46'\"\n",
      "\n",
      "[notice] A new release of pip available: 22.3.1 -> 23.1.2\n",
      "[notice] To update, run: python.exe -m pip install --upgrade pip\n"
     ]
    }
   ],
   "source": [
    "%pip install pandas\n",
    "%pip install matplotlib\n",
    "%pip install seaborn\n",
    "%pip install 'SQLAlchemy==1.4.46'"
   ]
  },
  {
   "cell_type": "code",
   "execution_count": 43,
   "metadata": {},
   "outputs": [],
   "source": [
    "# some imports to set up plotting\n",
    "import matplotlib.pyplot as plt\n",
    "# pip install seaborn\n",
    "import seaborn as sns\n",
    "\n",
    "# Graphics in retina format are more sharp and legible\n",
    "%config InlineBackend.figure_format = 'retina'"
   ]
  },
  {
   "attachments": {},
   "cell_type": "markdown",
   "metadata": {},
   "source": [
    "## Load data"
   ]
  },
  {
   "cell_type": "code",
   "execution_count": 44,
   "metadata": {},
   "outputs": [],
   "source": [
    "import pandas as pd\n",
    "\n",
    "df = pd.read_sql_table('berlin_dataset', 'sqlite:///berlin_dataset.sqlite')"
   ]
  },
  {
   "attachments": {},
   "cell_type": "markdown",
   "metadata": {},
   "source": [
    "### Look at the first rows"
   ]
  },
  {
   "cell_type": "code",
   "execution_count": 59,
   "metadata": {},
   "outputs": [
    {
     "data": {
      "text/html": [
       "<div>\n",
       "<style scoped>\n",
       "    .dataframe tbody tr th:only-of-type {\n",
       "        vertical-align: middle;\n",
       "    }\n",
       "\n",
       "    .dataframe tbody tr th {\n",
       "        vertical-align: top;\n",
       "    }\n",
       "\n",
       "    .dataframe thead th {\n",
       "        text-align: right;\n",
       "    }\n",
       "</style>\n",
       "<table border=\"1\" class=\"dataframe\">\n",
       "  <thead>\n",
       "    <tr style=\"text-align: right;\">\n",
       "      <th></th>\n",
       "      <th>date</th>\n",
       "      <th>total</th>\n",
       "      <th>Bikes</th>\n",
       "      <th>Cars</th>\n",
       "      <th>Pedestrains</th>\n",
       "      <th>MotorBikes</th>\n",
       "      <th>Goods Trucks</th>\n",
       "      <th>Others</th>\n",
       "      <th>Fatal</th>\n",
       "      <th>serious_injury</th>\n",
       "      <th>minor_injury</th>\n",
       "      <th>temperature_mean</th>\n",
       "      <th>windspeed_max</th>\n",
       "      <th>precipitation_sum</th>\n",
       "      <th>snowfall_sum</th>\n",
       "      <th>rain_sum</th>\n",
       "    </tr>\n",
       "  </thead>\n",
       "  <tbody>\n",
       "    <tr>\n",
       "      <th>0</th>\n",
       "      <td>2018/01</td>\n",
       "      <td>884</td>\n",
       "      <td>245</td>\n",
       "      <td>758</td>\n",
       "      <td>247</td>\n",
       "      <td>50</td>\n",
       "      <td>28</td>\n",
       "      <td>129</td>\n",
       "      <td>3</td>\n",
       "      <td>161</td>\n",
       "      <td>720</td>\n",
       "      <td>3.187097</td>\n",
       "      <td>38.6</td>\n",
       "      <td>69.7</td>\n",
       "      <td>5.81</td>\n",
       "      <td>62.6</td>\n",
       "    </tr>\n",
       "    <tr>\n",
       "      <th>1</th>\n",
       "      <td>2018/02</td>\n",
       "      <td>730</td>\n",
       "      <td>201</td>\n",
       "      <td>640</td>\n",
       "      <td>153</td>\n",
       "      <td>39</td>\n",
       "      <td>30</td>\n",
       "      <td>101</td>\n",
       "      <td>3</td>\n",
       "      <td>119</td>\n",
       "      <td>608</td>\n",
       "      <td>-1.232143</td>\n",
       "      <td>22.2</td>\n",
       "      <td>8.5</td>\n",
       "      <td>1.47</td>\n",
       "      <td>7.1</td>\n",
       "    </tr>\n",
       "    <tr>\n",
       "      <th>2</th>\n",
       "      <td>2018/03</td>\n",
       "      <td>802</td>\n",
       "      <td>222</td>\n",
       "      <td>700</td>\n",
       "      <td>154</td>\n",
       "      <td>65</td>\n",
       "      <td>27</td>\n",
       "      <td>110</td>\n",
       "      <td>2</td>\n",
       "      <td>109</td>\n",
       "      <td>691</td>\n",
       "      <td>1.454839</td>\n",
       "      <td>30.9</td>\n",
       "      <td>58.0</td>\n",
       "      <td>9.10</td>\n",
       "      <td>46.1</td>\n",
       "    </tr>\n",
       "    <tr>\n",
       "      <th>3</th>\n",
       "      <td>2018/04</td>\n",
       "      <td>1217</td>\n",
       "      <td>453</td>\n",
       "      <td>1008</td>\n",
       "      <td>148</td>\n",
       "      <td>214</td>\n",
       "      <td>38</td>\n",
       "      <td>168</td>\n",
       "      <td>4</td>\n",
       "      <td>202</td>\n",
       "      <td>1011</td>\n",
       "      <td>12.880000</td>\n",
       "      <td>32.6</td>\n",
       "      <td>39.2</td>\n",
       "      <td>1.61</td>\n",
       "      <td>36.9</td>\n",
       "    </tr>\n",
       "    <tr>\n",
       "      <th>4</th>\n",
       "      <td>2018/05</td>\n",
       "      <td>1462</td>\n",
       "      <td>679</td>\n",
       "      <td>1174</td>\n",
       "      <td>190</td>\n",
       "      <td>257</td>\n",
       "      <td>62</td>\n",
       "      <td>184</td>\n",
       "      <td>2</td>\n",
       "      <td>261</td>\n",
       "      <td>1199</td>\n",
       "      <td>17.793548</td>\n",
       "      <td>29.9</td>\n",
       "      <td>9.8</td>\n",
       "      <td>0.00</td>\n",
       "      <td>9.8</td>\n",
       "    </tr>\n",
       "  </tbody>\n",
       "</table>\n",
       "</div>"
      ],
      "text/plain": [
       "      date  total  Bikes  Cars  Pedestrains  MotorBikes  Goods Trucks  Others   \n",
       "0  2018/01    884    245   758          247          50            28     129  \\\n",
       "1  2018/02    730    201   640          153          39            30     101   \n",
       "2  2018/03    802    222   700          154          65            27     110   \n",
       "3  2018/04   1217    453  1008          148         214            38     168   \n",
       "4  2018/05   1462    679  1174          190         257            62     184   \n",
       "\n",
       "   Fatal  serious_injury  minor_injury  temperature_mean  windspeed_max   \n",
       "0      3             161           720          3.187097           38.6  \\\n",
       "1      3             119           608         -1.232143           22.2   \n",
       "2      2             109           691          1.454839           30.9   \n",
       "3      4             202          1011         12.880000           32.6   \n",
       "4      2             261          1199         17.793548           29.9   \n",
       "\n",
       "   precipitation_sum  snowfall_sum  rain_sum  \n",
       "0               69.7          5.81      62.6  \n",
       "1                8.5          1.47       7.1  \n",
       "2               58.0          9.10      46.1  \n",
       "3               39.2          1.61      36.9  \n",
       "4                9.8          0.00       9.8  "
      ]
     },
     "execution_count": 59,
     "metadata": {},
     "output_type": "execute_result"
    }
   ],
   "source": [
    "df.head(5)"
   ]
  },
  {
   "attachments": {},
   "cell_type": "markdown",
   "metadata": {},
   "source": [
    "### Data exploration\n",
    "Print some basic information about the data. Your data exploration would continue here."
   ]
  },
  {
   "cell_type": "code",
   "execution_count": 46,
   "metadata": {},
   "outputs": [
    {
     "name": "stdout",
     "output_type": "stream",
     "text": [
      "<class 'pandas.core.frame.DataFrame'>\n",
      "RangeIndex: 12 entries, 0 to 11\n",
      "Data columns (total 16 columns):\n",
      " #   Column             Non-Null Count  Dtype  \n",
      "---  ------             --------------  -----  \n",
      " 0   date               12 non-null     object \n",
      " 1   total              12 non-null     int64  \n",
      " 2   Bikes              12 non-null     int64  \n",
      " 3   Cars               12 non-null     int64  \n",
      " 4   Pedestrains        12 non-null     int64  \n",
      " 5   MotorBikes         12 non-null     int64  \n",
      " 6   Goods Trucks       12 non-null     int64  \n",
      " 7   Others             12 non-null     int64  \n",
      " 8   Fatal              12 non-null     int64  \n",
      " 9   serious_injury     12 non-null     int64  \n",
      " 10  minor_injury       12 non-null     int64  \n",
      " 11  temperature_mean   12 non-null     float64\n",
      " 12  windspeed_max      12 non-null     float64\n",
      " 13  precipitation_sum  12 non-null     float64\n",
      " 14  snowfall_sum       12 non-null     float64\n",
      " 15  rain_sum           12 non-null     float64\n",
      "dtypes: float64(5), int64(10), object(1)\n",
      "memory usage: 1.6+ KB\n"
     ]
    }
   ],
   "source": [
    "df.info()"
   ]
  },
  {
   "cell_type": "code",
   "execution_count": 47,
   "metadata": {},
   "outputs": [
    {
     "data": {
      "text/html": [
       "<div>\n",
       "<style scoped>\n",
       "    .dataframe tbody tr th:only-of-type {\n",
       "        vertical-align: middle;\n",
       "    }\n",
       "\n",
       "    .dataframe tbody tr th {\n",
       "        vertical-align: top;\n",
       "    }\n",
       "\n",
       "    .dataframe thead th {\n",
       "        text-align: right;\n",
       "    }\n",
       "</style>\n",
       "<table border=\"1\" class=\"dataframe\">\n",
       "  <thead>\n",
       "    <tr style=\"text-align: right;\">\n",
       "      <th></th>\n",
       "      <th>total</th>\n",
       "      <th>Bikes</th>\n",
       "      <th>Cars</th>\n",
       "      <th>Pedestrains</th>\n",
       "      <th>MotorBikes</th>\n",
       "      <th>Goods Trucks</th>\n",
       "      <th>Others</th>\n",
       "      <th>Fatal</th>\n",
       "      <th>serious_injury</th>\n",
       "      <th>minor_injury</th>\n",
       "      <th>temperature_mean</th>\n",
       "      <th>windspeed_max</th>\n",
       "      <th>precipitation_sum</th>\n",
       "      <th>snowfall_sum</th>\n",
       "      <th>rain_sum</th>\n",
       "    </tr>\n",
       "  </thead>\n",
       "  <tbody>\n",
       "    <tr>\n",
       "      <th>count</th>\n",
       "      <td>12.000000</td>\n",
       "      <td>12.000000</td>\n",
       "      <td>12.000000</td>\n",
       "      <td>12.000000</td>\n",
       "      <td>12.000000</td>\n",
       "      <td>12.000000</td>\n",
       "      <td>12.000000</td>\n",
       "      <td>12.000000</td>\n",
       "      <td>12.000000</td>\n",
       "      <td>12.000000</td>\n",
       "      <td>12.000000</td>\n",
       "      <td>12.000000</td>\n",
       "      <td>12.000000</td>\n",
       "      <td>12.000000</td>\n",
       "      <td>12.000000</td>\n",
       "    </tr>\n",
       "    <tr>\n",
       "      <th>mean</th>\n",
       "      <td>1137.666667</td>\n",
       "      <td>432.666667</td>\n",
       "      <td>929.583333</td>\n",
       "      <td>171.916667</td>\n",
       "      <td>179.500000</td>\n",
       "      <td>36.916667</td>\n",
       "      <td>151.333333</td>\n",
       "      <td>3.416667</td>\n",
       "      <td>181.333333</td>\n",
       "      <td>952.916667</td>\n",
       "      <td>11.366130</td>\n",
       "      <td>30.091667</td>\n",
       "      <td>33.766667</td>\n",
       "      <td>1.522500</td>\n",
       "      <td>31.850000</td>\n",
       "    </tr>\n",
       "    <tr>\n",
       "      <th>std</th>\n",
       "      <td>253.985803</td>\n",
       "      <td>171.741525</td>\n",
       "      <td>175.613966</td>\n",
       "      <td>37.427404</td>\n",
       "      <td>99.409621</td>\n",
       "      <td>10.655415</td>\n",
       "      <td>29.592178</td>\n",
       "      <td>1.164500</td>\n",
       "      <td>45.413921</td>\n",
       "      <td>212.238484</td>\n",
       "      <td>8.398821</td>\n",
       "      <td>4.624924</td>\n",
       "      <td>20.958935</td>\n",
       "      <td>2.916134</td>\n",
       "      <td>18.937865</td>\n",
       "    </tr>\n",
       "    <tr>\n",
       "      <th>min</th>\n",
       "      <td>730.000000</td>\n",
       "      <td>201.000000</td>\n",
       "      <td>640.000000</td>\n",
       "      <td>125.000000</td>\n",
       "      <td>39.000000</td>\n",
       "      <td>23.000000</td>\n",
       "      <td>101.000000</td>\n",
       "      <td>2.000000</td>\n",
       "      <td>109.000000</td>\n",
       "      <td>608.000000</td>\n",
       "      <td>-1.232143</td>\n",
       "      <td>22.200000</td>\n",
       "      <td>8.500000</td>\n",
       "      <td>0.000000</td>\n",
       "      <td>7.100000</td>\n",
       "    </tr>\n",
       "    <tr>\n",
       "      <th>25%</th>\n",
       "      <td>902.750000</td>\n",
       "      <td>248.000000</td>\n",
       "      <td>774.500000</td>\n",
       "      <td>149.500000</td>\n",
       "      <td>77.000000</td>\n",
       "      <td>29.500000</td>\n",
       "      <td>126.750000</td>\n",
       "      <td>3.000000</td>\n",
       "      <td>152.750000</td>\n",
       "      <td>750.000000</td>\n",
       "      <td>4.004839</td>\n",
       "      <td>27.300000</td>\n",
       "      <td>18.700000</td>\n",
       "      <td>0.000000</td>\n",
       "      <td>18.700000</td>\n",
       "    </tr>\n",
       "    <tr>\n",
       "      <th>50%</th>\n",
       "      <td>1226.500000</td>\n",
       "      <td>450.500000</td>\n",
       "      <td>997.500000</td>\n",
       "      <td>163.000000</td>\n",
       "      <td>219.500000</td>\n",
       "      <td>35.000000</td>\n",
       "      <td>158.500000</td>\n",
       "      <td>3.000000</td>\n",
       "      <td>182.500000</td>\n",
       "      <td>1032.500000</td>\n",
       "      <td>12.338387</td>\n",
       "      <td>30.800000</td>\n",
       "      <td>29.850000</td>\n",
       "      <td>0.070000</td>\n",
       "      <td>29.850000</td>\n",
       "    </tr>\n",
       "    <tr>\n",
       "      <th>75%</th>\n",
       "      <td>1316.000000</td>\n",
       "      <td>557.750000</td>\n",
       "      <td>1029.500000</td>\n",
       "      <td>180.250000</td>\n",
       "      <td>261.250000</td>\n",
       "      <td>42.000000</td>\n",
       "      <td>177.500000</td>\n",
       "      <td>4.000000</td>\n",
       "      <td>214.750000</td>\n",
       "      <td>1088.750000</td>\n",
       "      <td>18.175161</td>\n",
       "      <td>32.375000</td>\n",
       "      <td>46.000000</td>\n",
       "      <td>1.505000</td>\n",
       "      <td>43.025000</td>\n",
       "    </tr>\n",
       "    <tr>\n",
       "      <th>max</th>\n",
       "      <td>1466.000000</td>\n",
       "      <td>679.000000</td>\n",
       "      <td>1174.000000</td>\n",
       "      <td>247.000000</td>\n",
       "      <td>292.000000</td>\n",
       "      <td>62.000000</td>\n",
       "      <td>184.000000</td>\n",
       "      <td>6.000000</td>\n",
       "      <td>261.000000</td>\n",
       "      <td>1251.000000</td>\n",
       "      <td>22.435484</td>\n",
       "      <td>38.600000</td>\n",
       "      <td>69.700000</td>\n",
       "      <td>9.100000</td>\n",
       "      <td>62.800000</td>\n",
       "    </tr>\n",
       "  </tbody>\n",
       "</table>\n",
       "</div>"
      ],
      "text/plain": [
       "             total       Bikes         Cars  Pedestrains  MotorBikes   \n",
       "count    12.000000   12.000000    12.000000    12.000000   12.000000  \\\n",
       "mean   1137.666667  432.666667   929.583333   171.916667  179.500000   \n",
       "std     253.985803  171.741525   175.613966    37.427404   99.409621   \n",
       "min     730.000000  201.000000   640.000000   125.000000   39.000000   \n",
       "25%     902.750000  248.000000   774.500000   149.500000   77.000000   \n",
       "50%    1226.500000  450.500000   997.500000   163.000000  219.500000   \n",
       "75%    1316.000000  557.750000  1029.500000   180.250000  261.250000   \n",
       "max    1466.000000  679.000000  1174.000000   247.000000  292.000000   \n",
       "\n",
       "       Goods Trucks      Others      Fatal  serious_injury  minor_injury   \n",
       "count     12.000000   12.000000  12.000000       12.000000     12.000000  \\\n",
       "mean      36.916667  151.333333   3.416667      181.333333    952.916667   \n",
       "std       10.655415   29.592178   1.164500       45.413921    212.238484   \n",
       "min       23.000000  101.000000   2.000000      109.000000    608.000000   \n",
       "25%       29.500000  126.750000   3.000000      152.750000    750.000000   \n",
       "50%       35.000000  158.500000   3.000000      182.500000   1032.500000   \n",
       "75%       42.000000  177.500000   4.000000      214.750000   1088.750000   \n",
       "max       62.000000  184.000000   6.000000      261.000000   1251.000000   \n",
       "\n",
       "       temperature_mean  windspeed_max  precipitation_sum  snowfall_sum   \n",
       "count         12.000000      12.000000          12.000000     12.000000  \\\n",
       "mean          11.366130      30.091667          33.766667      1.522500   \n",
       "std            8.398821       4.624924          20.958935      2.916134   \n",
       "min           -1.232143      22.200000           8.500000      0.000000   \n",
       "25%            4.004839      27.300000          18.700000      0.000000   \n",
       "50%           12.338387      30.800000          29.850000      0.070000   \n",
       "75%           18.175161      32.375000          46.000000      1.505000   \n",
       "max           22.435484      38.600000          69.700000      9.100000   \n",
       "\n",
       "        rain_sum  \n",
       "count  12.000000  \n",
       "mean   31.850000  \n",
       "std    18.937865  \n",
       "min     7.100000  \n",
       "25%    18.700000  \n",
       "50%    29.850000  \n",
       "75%    43.025000  \n",
       "max    62.800000  "
      ]
     },
     "execution_count": 47,
     "metadata": {},
     "output_type": "execute_result"
    }
   ],
   "source": [
    "df.describe()"
   ]
  },
  {
   "cell_type": "code",
   "execution_count": 58,
   "metadata": {},
   "outputs": [
    {
     "data": {
      "text/plain": [
       "<Axes: xlabel='date', ylabel='total'>"
      ]
     },
     "execution_count": 58,
     "metadata": {},
     "output_type": "execute_result"
    },
    {
     "data": {
      "image/png": "[encoded data removed]",
      "text/plain": [
       "<Figure size 640x480 with 1 Axes>"
      ]
     },
     "metadata": {
      "image/png": {
       "height": 473,
       "width": 583
      }
     },
     "output_type": "display_data"
    }
   ],
   "source": [
    "plt.xticks(rotation=45)\n",
    "sns.lineplot(data=df, x=\"date\", y=\"total\")\n"
   ]
  },
  {
   "cell_type": "code",
   "execution_count": null,
   "metadata": {},
   "outputs": [],
   "source": []
  }
 ],
 "metadata": {
  "kernelspec": {
   "display_name": "Python 3",
   "language": "python",
   "name": "python3"
  },
  "language_info": {
   "codemirror_mode": {
    "name": "ipython",
    "version": 3
   },
   "file_extension": ".py",
   "mimetype": "text/x-python",
   "name": "python",
   "nbconvert_exporter": "python",
   "pygments_lexer": "ipython3",
   "version": "3.11.2"
  },
  "orig_nbformat": 4
 },
 "nbformat": 4,
 "nbformat_minor": 2
}
